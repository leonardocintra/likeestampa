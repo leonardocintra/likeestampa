{
 "cells": [
  {
   "cell_type": "markdown",
   "id": "12f6111d-8dc1-4260-8110-0a3605e6a5e8",
   "metadata": {},
   "source": [
    "# Transformar imagem PNG para JPG Cloudinary"
   ]
  },
  {
   "cell_type": "code",
   "execution_count": null,
   "id": "0fc0c6bd-e355-4982-8666-e920b80fb952",
   "metadata": {},
   "outputs": [],
   "source": [
    "# Passo 1: selecionar IDs das imagens\n",
    "# Passo 2: baixar a imagem pro pc numa pasta especifica\n",
    "# Passo 3: "
   ]
  }
 ],
 "metadata": {
  "kernelspec": {
   "display_name": "Python 3 (ipykernel)",
   "language": "python",
   "name": "python3"
  },
  "language_info": {
   "codemirror_mode": {
    "name": "ipython",
    "version": 3
   },
   "file_extension": ".py",
   "mimetype": "text/x-python",
   "name": "python",
   "nbconvert_exporter": "python",
   "pygments_lexer": "ipython3",
   "version": "3.8.10"
  }
 },
 "nbformat": 4,
 "nbformat_minor": 5
}
