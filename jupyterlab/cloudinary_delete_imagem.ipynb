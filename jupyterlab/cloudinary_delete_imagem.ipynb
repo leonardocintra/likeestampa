{
 "cells": [
  {
   "cell_type": "markdown",
   "id": "12f6111d-8dc1-4260-8110-0a3605e6a5e8",
   "metadata": {},
   "source": [
    "# Transformar imagem PNG para JPG Cloudinary"
   ]
  },
  {
   "cell_type": "code",
   "execution_count": null,
   "id": "8a6ffe5d-7026-4954-b325-c780775451b1",
   "metadata": {},
   "outputs": [],
   "source": [
    "!pip install pandas openpyxl pyautogui Pillow"
   ]
  },
  {
   "cell_type": "markdown",
   "id": "48cd2d6f-0389-4e7b-abd6-de80f3d566eb",
   "metadata": {},
   "source": [
    "### Observacao\n",
    "No ubuntuo precisa fazer isso\n",
    "```\n",
    "sudo apt-get install xclip\n",
    "```"
   ]
  },
  {
   "cell_type": "code",
   "execution_count": null,
   "id": "0fc0c6bd-e355-4982-8666-e920b80fb952",
   "metadata": {
    "tags": []
   },
   "outputs": [],
   "source": [
    "import pandas as pd\n",
    "import pyautogui\n",
    "import pyperclip\n",
    "import time\n",
    "from PIL import Image\n",
    "\n",
    "\n",
    "# Passo 1: selecionar IDs das imagens\n",
    "df = pd.read_excel(r\"/home/leonardo/Downloads/Cloudinary.xlsx\")\n",
    "imagens = df['imagem_id']\n",
    "\n",
    "count = len(imagens)\n",
    "\n",
    "# Passo 2: ler o id da imagem no excel\n",
    "for img in imagens:\n",
    "    pyperclip.copy(img)\n",
    "    pyautogui.click(x=2882, y=612)\n",
    "    \n",
    "    # Passo 3: buscar no cloudinary\n",
    "    pyautogui.hotkey(\"ctrl\", \"v\")\n",
    "    time.sleep(1)\n",
    "    pyautogui.press(\"enter\")\n",
    "    # Passo 4: baixar a imagem\n",
    "    time.sleep(3)\n",
    "    pyautogui.click(x=2150, y=852)\n",
    "    time.sleep(0.5)\n",
    "    pyautogui.click(x=2252, y=1016)\n",
    "    # Espera donwload chegar no PC\n",
    "    time.sleep(5)\n",
    "    \n",
    "    # Passo 5: transforma em jpg\n",
    "    im = Image.open(r'/home/leonardo/Downloads/'+ img +'.png')\n",
    "    rgb_im = im.convert('RGB')\n",
    "    rgb_im.save(r'/home/leonardo/Downloads/CloudinaryJPG/'+ img +'.jpg')\n",
    "    time.sleep(1)\n",
    "    count = count - 1\n",
    "    print(\"Fim IMG \" + img + \" - Falta: \" + str(count))\n",
    "    \n",
    "\n"
   ]
  },
  {
   "cell_type": "code",
   "execution_count": null,
   "id": "d6b85cb1-fcf4-421e-9bec-2365d0ed57b0",
   "metadata": {},
   "outputs": [],
   "source": [
    "# Pede para esperar 5 segundos para poder ir ate a outra aba e ver onde esta o botão\n",
    "import pyautogui\n",
    "import time\n",
    "\n",
    "time.sleep(5)\n",
    "pyautogui.position()"
   ]
  },
  {
   "cell_type": "code",
   "execution_count": null,
   "id": "3e05f93a-3e26-47ef-8c4c-78d2fbd18659",
   "metadata": {},
   "outputs": [],
   "source": []
  }
 ],
 "metadata": {
  "kernelspec": {
   "display_name": "Python 3 (ipykernel)",
   "language": "python",
   "name": "python3"
  },
  "language_info": {
   "codemirror_mode": {
    "name": "ipython",
    "version": 3
   },
   "file_extension": ".py",
   "mimetype": "text/x-python",
   "name": "python",
   "nbconvert_exporter": "python",
   "pygments_lexer": "ipython3",
   "version": "3.8.10"
  }
 },
 "nbformat": 4,
 "nbformat_minor": 5
}
